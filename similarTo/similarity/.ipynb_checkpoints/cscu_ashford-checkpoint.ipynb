{
 "cells": [
  {
   "cell_type": "code",
   "execution_count": 35,
   "metadata": {},
   "outputs": [],
   "source": [
    "import os\n",
    "import csv\n",
    "import rltk\n",
    "import re\n",
    "import sys\n",
    "import itertools"
   ]
  },
  {
   "cell_type": "code",
   "execution_count": 36,
   "metadata": {},
   "outputs": [],
   "source": [
    "path = '/Users/iankan/Desktop/project_stringmatching/data/'\n",
    "\n",
    "file1 = 'csus.csv'\n",
    "file2 = 'ashford.csv'"
   ]
  },
  {
   "cell_type": "code",
   "execution_count": 37,
   "metadata": {},
   "outputs": [],
   "source": [
    "csus_data = []\n",
    "ashford_data = []"
   ]
  },
  {
   "cell_type": "code",
   "execution_count": 38,
   "metadata": {
    "scrolled": true
   },
   "outputs": [],
   "source": [
    "with open(path+file1, 'r', encoding=\"utf-8\",errors = 'replace') as csusfile:\n",
    "    reader = csv.DictReader(csusfile)\n",
    "    for row in reader:\n",
    "        #print(row)\n",
    "        data = row['subject'],row['name'],row['id']\n",
    "        #print(data)\n",
    "        #data = row['Subject'],row[\"Course number & title\"].replace('\\xa0','')\n",
    "        #print(data)\n",
    "        csus_data.append(data)"
   ]
  },
  {
   "cell_type": "code",
   "execution_count": 39,
   "metadata": {},
   "outputs": [
    {
     "name": "stdout",
     "output_type": "stream",
     "text": [
      "1305\n"
     ]
    }
   ],
   "source": [
    "print(len(csus_data))"
   ]
  },
  {
   "cell_type": "code",
   "execution_count": 40,
   "metadata": {},
   "outputs": [],
   "source": [
    "#import codecs\n",
    "#csvReader = csv.reader(codecs.open(path+file2, 'rU', 'utf-16'))\n",
    "\n",
    "with open(path+file2, 'r', encoding='utf-8-sig') as ashfordfile:\n",
    "    \n",
    "    reader = csv.DictReader(ashfordfile)\n",
    "    \n",
    "    for row in reader:\n",
    "        data = row['subject'],row[\"name\"],row[\"id\"]\n",
    "        #print(data)\n",
    "        ashford_data.append(data)\n",
    "        #print(data)\n",
    "        #data = list(data)\n",
    "        #data[0] = data[0].replace(' Courses','')\n",
    "        #data[1] = data[1][8:]\n",
    "        #if data[1].startswith(\" \"):\n",
    "        #    data[1] = data[1][1:]\n",
    "        #    ashford_data.append(data)\n",
    "        #else:\n",
    "        #    data[1] = data[1]\n",
    "        #    ashford_data.append(data)"
   ]
  },
  {
   "cell_type": "code",
   "execution_count": 42,
   "metadata": {},
   "outputs": [],
   "source": [
    "import string\n",
    "\n",
    "def createFeature(data):\n",
    "    '''\n",
    "    input: list[tuple[subject, title]]\n",
    "    output: list[tuple[subject,title,location]]\n",
    "    '''\n",
    "    new_data = []\n",
    "    translate_table = dict((ord(char), ' ') for char in string.punctuation)  \n",
    "\n",
    "    for loc, row in enumerate(data):\n",
    "        row = list(row)\n",
    "        \n",
    "        ###Subject\n",
    "        row[0] = row[0].strip()\n",
    "        \n",
    "        ###course_name\n",
    "        row[1] = row[1].translate(translate_table).strip() #replace all punctuations to blank space\n",
    "        \n",
    "        ###ID\n",
    "        #row.append(loc + 1) \n",
    "        \n",
    "        new_data.append(tuple(row))\n",
    "    return list(set(new_data))"
   ]
  },
  {
   "cell_type": "code",
   "execution_count": 47,
   "metadata": {},
   "outputs": [],
   "source": [
    "new_csus = createFeature(csus_data)\n",
    "new_ashford= createFeature(ashford_data)"
   ]
  },
  {
   "cell_type": "code",
   "execution_count": 50,
   "metadata": {},
   "outputs": [
    {
     "name": "stdout",
     "output_type": "stream",
     "text": [
      "1305\n",
      "819\n"
     ]
    }
   ],
   "source": [
    "print(len(new_csus))\n",
    "print(len(new_ashford))"
   ]
  },
  {
   "cell_type": "code",
   "execution_count": 186,
   "metadata": {},
   "outputs": [
    {
     "name": "stderr",
     "output_type": "stream",
     "text": [
      "[nltk_data] Downloading package stopwords to\n",
      "[nltk_data]     /Users/iankan/nltk_data...\n",
      "[nltk_data]   Package stopwords is already up-to-date!\n"
     ]
    },
    {
     "data": {
      "text/plain": [
       "True"
      ]
     },
     "execution_count": 186,
     "metadata": {},
     "output_type": "execute_result"
    }
   ],
   "source": [
    "import nltk \n",
    "nltk.download('stopwords')\n"
   ]
  },
  {
   "cell_type": "code",
   "execution_count": 51,
   "metadata": {},
   "outputs": [],
   "source": [
    "from nltk.corpus import stopwords \n",
    "from nltk.tokenize import word_tokenize  \n",
    "\n",
    "stop_words = set(stopwords.words('english')) \n",
    "\n",
    "def hashingFunc(course_name: str) -> str:\n",
    "    global stop_words\n",
    "    global translate_table\n",
    "    return ''.join(sorted([w[0] for w in word_tokenize(course_name) if not w in stop_words]))[:2]\n",
    "#3hashingFunc(new_cscu)"
   ]
  },
  {
   "cell_type": "code",
   "execution_count": 52,
   "metadata": {},
   "outputs": [],
   "source": [
    "from collections import defaultdict\n",
    "def blockFunc(feature_list):\n",
    "    \"\"\"\n",
    "    Like the idea of hashing data into buckets\n",
    "    list[tuple[full_subject_name, course_name, word_1st_subject, id]]\n",
    "    \"\"\"\n",
    "    result = defaultdict(list)\n",
    "    for feature in feature_list:\n",
    "        if feature[1]:\n",
    "            k = hashingFunc(feature[1])\n",
    "            result[k].append(feature)\n",
    "    #print(result)\n",
    "    return result"
   ]
  },
  {
   "cell_type": "code",
   "execution_count": 53,
   "metadata": {},
   "outputs": [],
   "source": [
    "csus = blockFunc(new_csus)\n",
    "ashford = blockFunc(new_ashford)\n"
   ]
  },
  {
   "cell_type": "code",
   "execution_count": 190,
   "metadata": {},
   "outputs": [
    {
     "name": "stdout",
     "output_type": "stream",
     "text": [
      "4448\n",
      "859\n",
      "261\n",
      "139\n"
     ]
    }
   ],
   "source": [
    "\n",
    "print(sum([len(cscu[k]) for k in cscu.keys()]))\n",
    "print(sum([len(ashford[k]) for k in ashford.keys()]))\n",
    "print(len(bucket_keys))\n",
    "\n",
    "c = 0\n",
    "for k in bucket_keys:\n",
    "    if k in cscu and k in ashford:\n",
    "        c+=1\n",
    "        #print(len(cscu[k]), len(calpoly[k]))\n",
    "print(c)\n"
   ]
  },
  {
   "cell_type": "code",
   "execution_count": 57,
   "metadata": {},
   "outputs": [
    {
     "name": "stdout",
     "output_type": "stream",
     "text": [
      "('CSUS_ANTH 105', 'AshFord_ANT 307')\n",
      "('Anthropology', 'Anthropology of War', 'CSUS_ANTH 105') ('Anthropology Courses', 'Anthropology of War', 'AshFord_ANT 307') 0.84 count:1\n",
      "('CSUS_COMS 164', 'AshFord_COM 327')\n",
      "('Communication Studies', 'Visual Communication', 'CSUS_COMS 164') ('Communications Courses', 'Visual Communication', 'AshFord_COM 327') 0.9090909090909091 count:2\n",
      "('CSUS_ACCY 117', 'AshFord_ACC 407')\n",
      "('Accountancy', 'Advanced Accounting', 'CSUS_ACCY 117') ('Accounting Courses', 'Advanced Accounting', 'AshFord_ACC 407') 0.7777777777777778 count:3\n",
      "('CSUS_BHON 102', 'AshFord_BUS 340')\n",
      "('Business Honors', 'Business Communication', 'CSUS_BHON 102') ('Business Courses', 'Business Communications', 'AshFord_BUS 340') 0.8489130434782609 count:4\n",
      "('CSUS_BHON 109', 'AshFord_BUS 644')\n",
      "('Business Honors', 'Operations Management', 'CSUS_BHON 109') ('Business Courses', 'Operations Management', 'AshFord_BUS 644') 0.875 count:5\n",
      "('CSUS_COMS 8', 'AshFord_COM 200')\n",
      "('Communication Studies', 'Interpersonal Communication Skills', 'CSUS_COMS 8') ('Communications Courses', 'Interpersonal Communication', 'AshFord_COM 200') 0.7855614973262033 count:6\n",
      "('CSUS_COMS 174', 'AshFord_COM 370')\n",
      "('Communication Studies', 'International Communication', 'CSUS_COMS 174') ('Communications Courses', 'Intercultural Communication', 'AshFord_COM 370') 0.7757575757575758 count:7\n",
      "('CSUS_COMS 174', 'AshFord_COM 200')\n",
      "('Communication Studies', 'International Communication', 'CSUS_COMS 174') ('Communications Courses', 'Interpersonal Communication', 'AshFord_COM 200') 0.8202020202020202 count:8\n",
      "('CSUS_COMS 174', 'AshFord_COM 101')\n",
      "('Communication Studies', 'International Communication', 'CSUS_COMS 174') ('Communications Courses', 'Introduction to Communication', 'AshFord_COM 101') 0.7435736677115987 count:9\n",
      "('CSUS_COMS 116', 'AshFord_COM 370')\n",
      "('Communication Studies', 'Intercultural Communication', 'CSUS_COMS 116') ('Communications Courses', 'Intercultural Communication', 'AshFord_COM 370') 0.9090909090909091 count:10\n",
      "('CSUS_COMS 116', 'AshFord_COM 200')\n",
      "('Communication Studies', 'Intercultural Communication', 'CSUS_COMS 116') ('Communications Courses', 'Interpersonal Communication', 'AshFord_COM 200') 0.7757575757575758 count:11\n",
      "('CSUS_COMS 116', 'AshFord_COM 101')\n",
      "('Communication Studies', 'Intercultural Communication', 'CSUS_COMS 116') ('Communications Courses', 'Introduction to Communication', 'AshFord_COM 101') 0.702194357366771 count:12\n",
      "('CSUS_COMS 143', 'AshFord_COM 200')\n",
      "('Communication Studies', 'Theories of Interpersonal Communication', 'CSUS_COMS 143') ('Communications Courses', 'Interpersonal Communication', 'AshFord_COM 200') 0.7244755244755244 count:13\n",
      "('CSUS_CRJ 1', 'AshFord_CRJ 201')\n",
      "('Criminal Justice', 'Introduction to Criminal Justice and Society', 'CSUS_CRJ 1') ('Criminal Justice Courses', 'Introduction to Criminal Justice', 'AshFord_CRJ 201') 0.7030303030303031 count:14\n",
      "('CSUS_ANTH 201', 'AshFord_ANT 340')\n",
      "('Anthropology', 'Anthropological Theory', 'CSUS_ANTH 201') ('Anthropology Courses', 'Anthropological Theory', 'AshFord_ANT 340') 0.84 count:15\n",
      "('CSUS_ACCY 113', 'AshFord_ACC 306')\n",
      "('Accountancy', 'Intermediate Accounting III', 'CSUS_ACCY 113') ('Accounting Courses', 'Intermediate Accounting II', 'AshFord_ACC 306') 0.7555555555555556 count:16\n",
      "('CSUS_ACCY 113', 'AshFord_ACC 305')\n",
      "('Accountancy', 'Intermediate Accounting III', 'CSUS_ACCY 113') ('Accounting Courses', 'Intermediate Accounting I', 'AshFord_ACC 305') 0.7333333333333334 count:17\n",
      "('CSUS_ACCY 111', 'AshFord_ACC 306')\n",
      "('Accountancy', 'Intermediate Accounting I', 'CSUS_ACCY 111') ('Accounting Courses', 'Intermediate Accounting II', 'AshFord_ACC 306') 0.7547008547008547 count:18\n",
      "('CSUS_ACCY 111', 'AshFord_ACC 305')\n",
      "('Accountancy', 'Intermediate Accounting I', 'CSUS_ACCY 111') ('Accounting Courses', 'Intermediate Accounting I', 'AshFord_ACC 305') 0.7777777777777778 count:19\n",
      "('CSUS_ACCY 112', 'AshFord_ACC 306')\n",
      "('Accountancy', 'Intermediate Accounting II', 'CSUS_ACCY 112') ('Accounting Courses', 'Intermediate Accounting II', 'AshFord_ACC 306') 0.7777777777777778 count:20\n",
      "('CSUS_ACCY 112', 'AshFord_ACC 305')\n",
      "('Accountancy', 'Intermediate Accounting II', 'CSUS_ACCY 112') ('Accounting Courses', 'Intermediate Accounting I', 'AshFord_ACC 305') 0.7547008547008547 count:21\n",
      "('CSUS_CRJ 172', 'AshFord_CRJ 613')\n",
      "('Criminal Justice', 'Comparative Criminal Justice Systems', 'CSUS_CRJ 172') ('Criminal Justice Courses', 'Comparative Criminal Justice Systems', 'AshFord_CRJ 613') 0.8666666666666667 count:22\n",
      "('CSUS_ANTH 2H', 'AshFord_ANT 101')\n",
      "('Anthropology', 'Introduction to Cultural Anthropology   Honors', 'CSUS_ANTH 2H') ('Anthropology Courses', 'Introduction to Cultural Anthropology', 'AshFord_ANT 101') 0.7226086956521739 count:23\n",
      "('CSUS_ANTH 2', 'AshFord_ANT 101')\n",
      "('Anthropology', 'Introduction to Cultural Anthropology', 'CSUS_ANTH 2') ('Anthropology Courses', 'Introduction to Cultural Anthropology', 'AshFord_ANT 101') 0.84 count:24\n",
      "('CSUS_ACCY 121', 'AshFord_ACC 310')\n",
      "('Accountancy', 'Cost Accounting', 'CSUS_ACCY 121') ('Accounting Courses', 'Cost Accounting I', 'AshFord_ACC 310') 0.7071895424836602 count:25\n",
      "('CSUS_CRJ 200', 'AshFord_CRJ 520')\n",
      "('Criminal Justice', 'Research Methods in Criminal Justice', 'CSUS_CRJ 200') ('Criminal Justice Courses', 'Research Methods in Criminal Justice', 'AshFord_CRJ 520') 0.8666666666666667 count:26\n",
      "('CSUS_COMS 161', 'AshFord_HPR 303')\n",
      "('Communication Studies', 'Health Communication', 'CSUS_COMS 161') ('Health Promotion Courses', 'Health Communications', 'AshFord_HPR 303') 0.7047619047619047 count:27\n",
      "('CSUS_ACCY 262', 'AshFord_ACC 410')\n",
      "('Accountancy', 'Auditing', 'CSUS_ACCY 262') ('Accounting Courses', 'Auditing', 'AshFord_ACC 410') 0.7777777777777778 count:28\n"
     ]
    }
   ],
   "source": [
    "count = 0\n",
    "\n",
    "bucket_keys = set(list(csus.keys()) + list(ashford.keys()))\n",
    "result = []\n",
    "for k in bucket_keys:\n",
    "    if k in csus and k in ashford:\n",
    "        for cs, ash in itertools.product(csus[k], ashford[k]):\n",
    "            sub = rltk.levenshtein_similarity(cs[0],ash[0])\n",
    "            name = rltk.levenshtein_similarity(cs[1],ash[1])\n",
    "\n",
    "            score = 0.4 * sub + 0.6 * name\n",
    "\n",
    "            if score > 0.7:\n",
    "                count += 1\n",
    "                #if score < 0.9:\n",
    "                ans = (cs[2],ash[2])\n",
    "                print(ans)\n",
    "                result.append(ans)\n",
    "                print(cs,ash,score,'count:' + str(count))"
   ]
  },
  {
   "cell_type": "code",
   "execution_count": 26,
   "metadata": {},
   "outputs": [
    {
     "name": "stdout",
     "output_type": "stream",
     "text": [
      "[('Statistics', 'Introduction to Probability and Statistics', 4318, 'Statistics', 'Introduction to Probability and Simulation', 3958), ('Computer Science', 'Senior Project  Part I', 954, 'Computer Science', 'Senior Project I', 1433), ('Computer Science', 'Senior Project  Part I', 954, 'Computer Science', 'Senior Project II', 1434), ('Computer Science', 'Senior Project Part II', 955, 'Computer Science', 'Senior Project I', 1433), ('Computer Science', 'Senior Project Part II', 955, 'Computer Science', 'Senior Project II', 1434), ('Art', 'Intermediate Printmaking', 237, 'Art', 'Intermediate Painting', 571), ('Art', 'Intermediate Painting', 220, 'Art', 'Intermediate Painting', 571), ('Spanish', 'Intensive Elementary Spanish', 4269, 'Spanish', 'Intensive Elementary Spanish', 3926), ('Engineering', 'Introduction to Engineering', 1620, 'Engineering', 'Introduction to Engineering', 1864), ('Italian', 'Elementary Italian', 2791, 'Italian', 'Elementary Italian III', 2757), ('Italian', 'Elementary Italian', 2791, 'Italian', 'Elementary Italian I', 2755), ('Italian', 'Elementary Italian', 2791, 'Italian', 'Elementary Italian II', 2756), ('Music', 'Instrumental Jazz Ensemble', 3477, 'Music', 'Instrumental Ensemble', 3367), ('Music', 'Instrumental Jazz Ensemble', 3477, 'Music', 'Instrumental Ensembles', 3315), ('Italian', 'Elementary Italian', 2790, 'Italian', 'Elementary Italian III', 2757), ('Italian', 'Elementary Italian', 2790, 'Italian', 'Elementary Italian I', 2755), ('Italian', 'Elementary Italian', 2790, 'Italian', 'Elementary Italian II', 2756), ('English', 'Modern Poetry', 1762, 'English', 'Modern Poetry', 1954), ('English', 'Studies in Applied Linguistics', 1697, 'English', 'Topics in Applied Linguistics', 1971), ('Theatre', 'Introduction To Theatre', 4391, 'Theatre', 'Introduction to Theatre', 4005), ('Economics', 'International Trade', 1212, 'Economics', 'International Trade Theory', 1645), ('Economics', 'International Trade', 1212, 'Economics', 'International Trade Theory', 1638), ('Economics', 'International Trade', 1234, 'Economics', 'International Trade Theory', 1645), ('Economics', 'International Trade', 1234, 'Economics', 'International Trade Theory', 1638), ('Mechanical Engineering', 'Advanced Thermodynamics', 3332, 'Mechanical Engineering', 'Advanced Thermodynamics', 3244), ('Geology', 'Applied Geophysics', 2253, 'Geology', 'Applied Geophysics', 2234), ('Psychology', 'History and Systems of Psychology', 3873, 'Psychology', 'History and Systems of Psychology', 3718), ('Philosophy', 'Metaphysics', 3695, 'Philosophy', 'Metaphysics', 3496), ('Philosophy', 'Political Philosophy', 3678, 'Philosophy', 'Political Philosophy', 3481), ('Sociology', 'Social Stratification', 4182, 'Sociology', 'Social Stratification', 3871), ('Kinesiology', 'Beginning Racquetball', 2879, 'Kinesiology', 'Beginning Racquetball', 2813), ('Chemistry', 'Organic Chemistry Laboratory', 531, 'Chemistry', 'Physical Chemistry Laboratory', 990), ('English', 'Chicano Literature', 1774, 'English', 'Children s Literature', 1928), ('Chemistry', 'Physical Chemistry Laboratory', 543, 'Chemistry', 'Physical Chemistry Laboratory', 990), ('English', 'Literary Theory', 1685, 'English', 'Literary Themes', 1964), ('English', 'History of the English Language', 1692, 'English', 'History of the English Language', 1972), ('Philosophy', 'History Of Ethics', 3675, 'Philosophy', 'History of Ethics', 3480), ('Economics', 'Urban Economics', 1207, 'Economics', 'Urban Economics', 1656), ('Economics', 'Mathematics for Economists', 1224, 'Economics', 'Mathematical Economics', 1648), ('Marine Sciences', 'Marine Ecology', 3058, 'Marine Science', 'Marine Ecology', 2999), ('Art', 'Beginning Sculpture', 195, 'Art', 'Beginning Sculpture', 551), ('Kinesiology', 'Beginning Sailing', 2848, 'Kinesiology', 'Beginning Swimming', 2819), ('Kinesiology', 'Beginning Swimming', 2846, 'Kinesiology', 'Beginning Swimming', 2819), ('Civil Engineering', 'Hydraulics Laboratory', 640, 'Civil Engineering', 'Hydraulics Laboratory', 1168), ('Psychology', 'Abnormal Psychology', 3866, 'Psychology', 'Abnormal Psychology', 3717), ('Journalism', 'Public Affairs Reporting', 2833, 'Journalism', 'Public Affairs Reporting', 2774), ('Psychology', 'Psychological Testing', 3845, 'Psychology', 'Psychological Testing', 3723), ('Communication Studies', 'Seminar in Small Group Communication', 859, 'Communication Studies', 'Small Group Communication', 1266), ('Communication Studies', 'Gender Ideology and Communication', 817, 'Communication Studies', 'Gender and Communication', 1293), ('Civil Engineering', 'Transportation Systems', 646, 'Civil Engineering', 'Transportation Safety', 1224), ('Sociology', 'Sociological Theory', 4169, 'Sociology', 'Social Theory', 3884), ('History', 'Mexican American History', 2560, 'History', 'Modern African History', 2487), ('Mechanical Engineering', 'Advanced Heat Transfer', 3345, 'Mechanical Engineering', 'Advanced Heat Transfer II', 3247), ('Mechanical Engineering', 'Advanced Heat Transfer', 3345, 'Mechanical Engineering', 'Advanced Heat Transfer III', 3249), ('Mechanical Engineering', 'Advanced Heat Transfer', 3345, 'Mechanical Engineering', 'Advanced Heat Transfer I', 3246), ('Philosophy', 'History of Ancient Philosophy', 3682, 'Philosophy', 'History of Analytic Philosophy', 3470), ('Mathematics', 'Vector Analysis', 3228, 'Mathematics', 'Vector Analysis', 3099), ('Sociology', 'Urban Sociology', 4178, 'Sociology', 'Urban Sociology', 3868), ('Mathematics', 'Introduction to Linear Algebra', 3222, 'Mathematics', 'Introduction to Linear Algebra Workshop II', 3101), ('Computer Science', 'Artificial Intelligence', 972, 'Computer Science', 'Artificial Intelligence', 1453), ('Computer Science', 'Artificial Intelligence', 972, 'Computer Science', 'Artificial Intelligence', 1426), ('English', 'Early American Literature', 1741, 'English', 'Ethnic American Literature', 1950), ('Ethnic Studies', 'The Filipino American Experience', 1946, 'Ethnic Studies', 'The Filipina o American Experience', 2077), ('Civil Engineering', 'Geoenvironmental Engineering', 663, 'Civil Engineering', 'Geoenvironmental Engineering', 1248), ('German', 'Elementary German', 2265, 'German', 'Elementary German II', 2238), ('German', 'Elementary German', 2265, 'German', 'Elementary German I', 2237), ('German', 'Elementary German', 2265, 'German', 'Elementary German III', 2239), ('German', 'Elementary German', 2266, 'German', 'Elementary German II', 2238), ('German', 'Elementary German', 2266, 'German', 'Elementary German I', 2237), ('German', 'Elementary German', 2266, 'German', 'Elementary German III', 2239), ('Geology', 'Physical Geology Lab', 2208, 'Geology', 'Physical Geology Laboratory', 2224), ('Sociology', 'Sociology of Gender', 4137, 'Sociology', 'Sociology of Gender', 3867), ('Sociology', 'Sociology of Gender', 4183, 'Sociology', 'Sociology of Gender', 3867), ('Mathematics', 'Introduction to Differential Geometry', 3248, 'Mathematics', 'Introduction to Differential Geometry', 3114), ('Computer Science', 'Computer Security', 987, 'Computer Science', 'Computer Security', 1443), ('Statistics', 'Statistical Computing', 4323, 'Statistics', 'Statistical Consulting', 3988), ('Statistics', 'Statistical Computing', 4323, 'Statistics', 'Statistical Computing with SAS', 3964), ('Statistics', 'Statistical Computing', 4323, 'Statistics', 'Statistical Computing with SAS', 3996), ('Statistics', 'Statistical Computing', 4323, 'Statistics', 'Statistical Communication', 3968), ('Statistics', 'Statistical Computing', 4325, 'Statistics', 'Statistical Consulting', 3988), ('Statistics', 'Statistical Computing', 4325, 'Statistics', 'Statistical Computing with SAS', 3964), ('Statistics', 'Statistical Computing', 4325, 'Statistics', 'Statistical Computing with SAS', 3996), ('Statistics', 'Statistical Computing', 4325, 'Statistics', 'Statistical Communication', 3968), ('Economics', 'Intermediate Microeconomic Theory', 1184, 'Economics', 'Intermediate Macroeconomics', 1636), ('Music', 'Musicianship II', 3365, 'Music', 'Musicianship III', 3300), ('Music', 'Musicianship II', 3365, 'Music', 'Musicianship II', 3299), ('Music', 'Musicianship II', 3365, 'Music', 'Musicianship IV', 3329), ('Music', 'Musicianship II', 3365, 'Music', 'Musicianship I', 3297), ('Economics', 'Intermediate Macroeconomic Theory', 1183, 'Economics', 'Intermediate Macroeconomics', 1636), ('Music', 'Musicianship I', 3364, 'Music', 'Musicianship III', 3300), ('Music', 'Musicianship I', 3364, 'Music', 'Musicianship II', 3299), ('Music', 'Musicianship I', 3364, 'Music', 'Musicianship IV', 3329), ('Music', 'Musicianship I', 3364, 'Music', 'Musicianship I', 3297), ('Geology', 'Igneous and Metamorphic Petrology', 2212, 'Geology', 'Igneous and Metamorphic Petrology', 2227), ('Sociology', 'Social Movements', 4144, 'Sociology', 'Social Movements', 3863), ('Communication Studies', 'Media  Sports  and Society', 832, 'Communication Studies', 'Media  Self and Society', 1267), ('Philosophy', 'Existentialism', 3677, 'Philosophy', 'Existentialism', 3472), ('Philosophy', 'Ethics', 3660, 'Philosophy', 'Ethics', 3479), ('Kinesiology', 'Graduate Studies in Kinesiology', 2959, 'Kinesiology', 'Graduate Seminar in Kinesiology', 2912), ('Economics', 'Industrial Organization', 1203, 'Economics', 'Industrial Organization', 1644), ('Computer Science', 'Web Application Development', 924, 'Computer Science', 'Mobile Application Development', 1409), ('Kinesiology', 'Intermediate Badminton', 2877, 'Kinesiology', 'Intermediate Bowling', 2807), ('Civil Engineering', 'Water Resources Engineering', 641, 'Civil Engineering', 'Water Resources Engineering', 1167), ('History', 'The Renaissance and Reformation in Europe', 2486, 'History', 'Renaissance and Reformation Europe', 2499), ('Communication Studies', 'Organizational Communication', 806, 'Communication Studies', 'Organizational Communication', 1265), ('Communication Studies', 'Organizational Communication', 853, 'Communication Studies', 'Organizational Communication', 1265), ('Mathematics', 'Calculus II', 3219, 'Mathematics', 'Calculus IV', 3090), ('Mathematics', 'Calculus II', 3219, 'Mathematics', 'Calculus I', 3073), ('Mathematics', 'Calculus II', 3219, 'Mathematics', 'Calculus II', 3074), ('Mathematics', 'Calculus II', 3219, 'Mathematics', 'Calculus III', 3075), ('Chemistry', 'Organic Chemistry Lecture I', 530, 'Chemistry', 'Organic Chemistry I', 967), ('Chemistry', 'Organic Chemistry Lecture I', 530, 'Chemistry', 'Organic Chemistry II', 968), ('Chemistry', 'Organic Chemistry Lecture I', 530, 'Chemistry', 'Organic Chemistry Laboratory III', 982), ('Chemistry', 'Organic Chemistry Lecture I', 530, 'Chemistry', 'Organic Chemistry III', 969), ('Chemistry', 'Organic Chemistry Lecture I', 530, 'Chemistry', 'Organic Chemistry Laboratory II', 971), ('Chemistry', 'Introduction to Physical Chemistry', 544, 'Chemistry', 'Introduction to Organic Chemistry', 966), ('Mathematics', 'Calculus III', 3221, 'Mathematics', 'Calculus IV', 3090), ('Mathematics', 'Calculus III', 3221, 'Mathematics', 'Calculus I', 3073), ('Mathematics', 'Calculus III', 3221, 'Mathematics', 'Calculus II', 3074), ('Mathematics', 'Calculus III', 3221, 'Mathematics', 'Calculus III', 3075), ('Mathematics', 'Calculus I', 3217, 'Mathematics', 'Calculus IV', 3090), ('Mathematics', 'Calculus I', 3217, 'Mathematics', 'Calculus I', 3073), ('Mathematics', 'Calculus I', 3217, 'Mathematics', 'Calculus II', 3074), ('Mathematics', 'Calculus I', 3217, 'Mathematics', 'Calculus III', 3075), ('Chemistry', 'Physical Chemistry Lecture II', 542, 'Chemistry', 'Physical Chemistry II', 988), ('Chemistry', 'Physical Chemistry Lecture II', 542, 'Chemistry', 'Physical Chemistry III', 989), ('Chemistry', 'Physical Chemistry Lecture II', 542, 'Chemistry', 'Physical Chemistry I', 987), ('Chemistry', 'Organic Chemistry Lecture II', 537, 'Chemistry', 'Organic Chemistry I', 967), ('Chemistry', 'Organic Chemistry Lecture II', 537, 'Chemistry', 'Organic Chemistry II', 968), ('Chemistry', 'Organic Chemistry Lecture II', 537, 'Chemistry', 'Organic Chemistry Laboratory III', 982), ('Chemistry', 'Organic Chemistry Lecture II', 537, 'Chemistry', 'Organic Chemistry III', 969), ('Chemistry', 'Organic Chemistry Lecture II', 537, 'Chemistry', 'Organic Chemistry Laboratory II', 971), ('Chemistry', 'Inorganic Chemistry Lecture', 535, 'Chemistry', 'Inorganic Chemistry', 1027), ('Chemistry', 'Inorganic Chemistry Lecture', 535, 'Chemistry', 'Inorganic Chemistry Laboratory', 1028), ('Communication Studies', 'Internship in Communication Studies', 846, 'Communication Studies', 'Internship  Communication Studies', 1297), ('Chemistry', 'Physical Chemistry Lecture I', 541, 'Chemistry', 'Physical Chemistry II', 988), ('Chemistry', 'Physical Chemistry Lecture I', 541, 'Chemistry', 'Physical Chemistry III', 989), ('Chemistry', 'Physical Chemistry Lecture I', 541, 'Chemistry', 'Physical Chemistry III Lab', 991), ('Chemistry', 'Physical Chemistry Lecture I', 541, 'Chemistry', 'Physical Chemistry I', 987), ('Communication Studies', 'Internship in Communication Studies', 870, 'Communication Studies', 'Internship  Communication Studies', 1297), ('Communication Studies', 'Theories of Interpersonal Communication', 804, 'Communication Studies', 'Interpersonal Communication', 1264), ('Communication Studies', 'Intercultural Communication', 785, 'Communication Studies', 'Intercultural Communication', 1276), ('Communication Studies', 'Intercultural Communication', 785, 'Communication Studies', 'Intergroup Communication', 1275), ('Communication Studies', 'Intercultural Communication', 785, 'Communication Studies', 'Interpersonal Communication', 1264), ('Communication Studies', 'International Communication', 828, 'Communication Studies', 'Intercultural Communication', 1276), ('Communication Studies', 'International Communication', 828, 'Communication Studies', 'Intergroup Communication', 1275), ('Communication Studies', 'International Communication', 828, 'Communication Studies', 'Interpersonal Communication', 1264), ('Computer Science', 'Introduction to Computer Science', 901, 'Computer Science', 'Introduction to Computer Organization', 1366), ('Computer Science', 'Introduction to Computer Science', 901, 'Computer Science', 'Introduction to Computer Security', 1384), ('Computer Science', 'Introduction to Computer Science', 901, 'Computer Science', 'Introduction to Computing', 1360), ('Computer Science', 'Introduction to C Programming', 913, 'Computer Science', 'Introduction to Computing', 1360), ('Chemistry', 'Introductory Organic Chemistry Laboratory', 529, 'Chemistry', 'Inorganic Chemistry Laboratory', 1028), ('Communication Studies', 'Interpersonal Communication Skills', 763, 'Communication Studies', 'Interpersonal Communication', 1264), ('Art', 'Beginning Printmaking', 183, 'Art', 'Beginning Painting', 557), ('Art', 'Beginning Painting', 180, 'Art', 'Beginning Painting', 557), ('Mechanical Engineering', 'Heat Transfer', 3276, 'Mechanical Engineering', 'Heat Transfer', 3193), ('Art', 'Intermediate Drawing', 179, 'Art', 'Intermediate Drawing', 555), ('Civil Engineering', 'Introduction to GIS in Civil Engineering', 648, 'Civil Engineering', 'Introduction to Civil Engineering', 1156), ('Civil Engineering', 'Civil Engineering Seminar', 634, 'Civil Engineering', 'Civil Engineering Materials', 1163), ('Civil Engineering', 'Civil Engineering Professional Practice', 644, 'Civil Engineering', 'Civil Engineering Professional Practice', 1199), ('Child Development', 'Community Service Learning in Developmental and Educational Settings', 579, 'Child Development', 'Children s Learning and Development in Educational Settings', 1047), ('Child Development', 'Community Service Learning in Developmental and Educational Settings', 596, 'Child Development', 'Children s Learning and Development in Educational Settings', 1047), ('Dance', 'Contemporary Dance Level IC', 1117, 'Dance', 'Contemporary Dance Repertory', 1583), ('Dance', 'Contemporary Dance Level IIIB', 1148, 'Dance', 'Contemporary Dance Repertory', 1583), ('Child Development', 'Community Service Learning in Developmental and Educational Settings', 610, 'Child Development', 'Children s Learning and Development in Educational Settings', 1047), ('Dance', 'Contemporary Dance Level IlIA', 1147, 'Dance', 'Contemporary Dance Repertory', 1583), ('Civil Engineering', 'Reinforced Concrete Design', 652, 'Civil Engineering', 'Reinforced Concrete Design', 1170), ('Civil Engineering', 'Reinforced Concrete Design', 652, 'Civil Engineering', 'Prestressed Concrete Design', 1240), ('Dance', 'Contemporary Dance Level IIB', 1134, 'Dance', 'Contemporary Dance Repertory', 1583), ('Civil Engineering', 'Pre stressed Concrete Design', 655, 'Civil Engineering', 'Reinforced Concrete Design', 1170), ('Civil Engineering', 'Pre stressed Concrete Design', 655, 'Civil Engineering', 'Prestressed Concrete Design', 1240), ('Dance', 'Dance Composition II', 1155, 'Dance', 'Dance Composition', 1584), ('Dance', 'Contemporary Dance Level IIIC', 1149, 'Dance', 'Contemporary Dance Repertory', 1583), ('Dance', 'Contemporary Dance Level IB', 1116, 'Dance', 'Contemporary Dance Repertory', 1583), ('Dance', 'Contemporary Dance Level IIA', 1133, 'Dance', 'Contemporary Dance Repertory', 1583), ('Theatre', 'Costume Design', 4419, 'Theatre', 'Costume Design', 4032), ('Dance', 'Dance Composition I', 1154, 'Dance', 'Dance Composition', 1584), ('Dance', 'Contemporary Dance Level lA', 1115, 'Dance', 'Contemporary Dance Repertory', 1583), ('Dance', 'Contemporary Dance Level IIC', 1135, 'Dance', 'Contemporary Dance Repertory', 1583), ('Theatre', 'Rehearsal and Performance', 4417, 'Theatre', 'Rehearsal and Performance', 4024), ('Philosophy', 'Topics in Philosophy of Religion', 3703, 'Philosophy', 'Philosophy of Religion', 3489), ('History', 'Colonial Latin America', 2516, 'History', 'Colonial Latin America', 2459), ('Civil Engineering', 'Computer Applications in Civil Engineering', 638, 'Civil Engineering', 'Computer Aided Drafting in Civil Engineering', 1158), ('Mathematics', 'Complex Analysis', 3257, 'Mathematics', 'Complex Analysis I', 3116), ('Mathematics', 'Complex Analysis', 3257, 'Mathematics', 'Complex Analysis II', 3117), ('History', 'Colonial America', 2532, 'History', 'Colonial Latin America', 2459), ('Chemistry', 'Advanced Organic Chemistry Laboratory', 538, 'Chemistry', 'Advanced Organic Chemistry   Synthesis', 1003), ('Chemistry', 'Advanced Organic Chemistry Laboratory', 538, 'Chemistry', 'Advanced Organic Chemistry   Mechanisms', 1000), ('English', 'Advanced Composition', 1699, 'English', 'Writing  Advanced Composition', 1931), ('Mechanical Engineering', 'Applications of Finite Element Analysis', 3297, 'Mechanical Engineering', 'Applied Finite Element Analysis', 3198), ('Communication Studies', 'Communication Theory', 851, 'Communication Studies', 'Communication Theory', 1273), ('English', 'Composition Tutorial', 1656, 'English', 'Composition Theory', 2000), ('History', 'History Internship', 2584, 'History', 'History Internship', 2505), ('History', 'History Internship', 2616, 'History', 'History Internship', 2505), ('Recreation, Parks, and Tourism Administration', 'Introduction to Hospitality and Tourism', 3961, 'Recreation, Parks and Tourism Administration', 'Introduction to Hospitality and Travel', 3766), ('Theatre', 'Directing', 4406, 'Theatre', 'Directing', 4034), ('English', 'Chaucer', 1828, 'English', 'Chaucer', 1980), ('Music', 'Counterpoint', 3442, 'Music', 'Counterpoint', 3344), ('Construction Management', 'Fundamentals of Construction Management', 1009, 'Construction Management', 'Fundamentals of Construction Management', 1466), ('Communication Studies', 'Family Communication', 780, 'Communication Studies', 'Family Communication', 1295), ('Economics', 'Labor Economics', 1200, 'Economics', 'Labor Economics', 1651), ('Chemistry', 'Advanced Undergraduate Research', 553, 'Chemistry', 'Advanced Undergraduate Research', 997), ('Mathematics', 'Real Analysis', 3256, 'Mathematics', 'Real Analysis', 3163), ('Mathematics', 'Real Analysis', 3255, 'Mathematics', 'Real Analysis', 3163), ('Art', 'Figure Drawing', 222, 'Art', 'Figure Drawing', 570), ('Sociology', 'Sociology of Religion', 4164, 'Sociology', 'Sociology of Religion', 3877), ('Marine Sciences', 'Biological Oceanography', 3070, 'Marine Science', 'Biological Oceanography', 2995), ('History', 'Research and Writing in US History', 2598, 'History', 'Research and Writing Seminar in History', 2439), ('History', 'Research and Writing in World History', 2600, 'History', 'Research and Writing Seminar in History', 2439), ('Kinesiology', 'Jogging', 2858, 'Kinesiology', 'Jogging', 2810), ('Physics', 'Optics', 3732, 'Physics', 'Optics', 3566), ('Music', 'Orchestra', 3473, 'Music', 'Orchestration', 3362), ('Communication Studies', 'Health Communication', 816, 'Communication Studies', 'Health Communication', 1290), ('Civil Engineering', 'Open Channel Hydraulics', 643, 'Civil Engineering', 'Open Channel Hydraulics', 1189), ('French', 'Intermediate French', 2115, 'French', 'Intermediate French II', 2183), ('French', 'Intermediate French', 2115, 'French', 'Intermediate French I', 2182), ('French', 'Intermediate French', 2115, 'French', 'Intermediate French III', 2184), ('French', 'Intermediate French', 2116, 'French', 'Intermediate French II', 2183), ('French', 'Intermediate French', 2116, 'French', 'Intermediate French I', 2182), ('French', 'Intermediate French', 2116, 'French', 'Intermediate French III', 2184), ('English', 'Internships', 1874, 'English', 'Internship', 1974), ('Anthropology', 'Internship', 131, 'Anthropology', 'Internship', 425), ('Anthropology', 'Internship', 158, 'Anthropology', 'Internship', 425), ('Sociology', 'Sociology of The Family', 4191, 'Sociology', 'Sociology of the Family', 3864), ('Sociology', 'Sociology of Film', 4142, 'Sociology', 'Sociology of the Family', 3864), ('Communication Studies', 'Nonverbal Communication', 784, 'Communication Studies', 'Nonverbal Communication', 1292), ('French', 'Elementary French', 2113, 'French', 'Elementary French II', 2180), ('French', 'Elementary French', 2113, 'French', 'Elementary French III', 2181), ('French', 'Elementary French', 2113, 'French', 'Elementary French I', 2179), ('French', 'Elementary French', 2114, 'French', 'Elementary French II', 2180), ('French', 'Elementary French', 2114, 'French', 'Elementary French III', 2181), ('French', 'Elementary French', 2114, 'French', 'Elementary French I', 2179), ('English', 'Second Language Learning and Teaching', 1695, 'English', 'Theories of Language Learning and Teaching', 1994), ('Music', 'Woodwind Ensemble', 3485, 'Music', 'Wind Ensemble', 3317), ('Music', 'Woodwind Ensemble', 3485, 'Music', 'Wind Ensemble', 3369), ('German', 'Intermediate German', 2267, 'German', 'Intermediate German III', 2242), ('German', 'Intermediate German', 2267, 'German', 'Intermediate German I', 2240), ('German', 'Intermediate German', 2267, 'German', 'Intermediate German II', 2241), ('German', 'Intermediate German', 2268, 'German', 'Intermediate German III', 2242), ('German', 'Intermediate German', 2268, 'German', 'Intermediate German I', 2240), ('German', 'Intermediate German', 2268, 'German', 'Intermediate German II', 2241), ('Kinesiology', 'Research Methods in Kinesiology', 2960, 'Kinesiology', 'Research Methods in Kinesiology', 2902), ('Civil Engineering', 'Geotechnical Earthquake Engineering', 664, 'Civil Engineering', 'Geotechnical Earthquake Engineering', 1244), ('Mechanical Engineering', 'Solar Energy Engineering', 3291, 'Mechanical Engineering', 'Wind Energy Engineering', 3231), ('Kinesiology', 'Biomechanics', 2909, 'Kinesiology', 'Biomechanics', 2867), ('Kinesiology', 'Sport and Exercise Psychology', 2930, 'Kinesiology', 'Sport and Exercise Psychology', 2844), ('Mathematics', 'Methods of Applied Mathematics', 3259, 'Mathematics', 'Numerical Methods in Applied Mathematics', 3154), ('Music', 'Music Appreciation', 3381, 'Music', 'Music Appreciation', 3302), ('Anthropology', 'Biological Anthropology Laboratory', 53, 'Anthropology', 'Biological Anthropology', 402), ('Kinesiology', 'Advanced Biomechanics', 2966, 'Kinesiology', 'Advanced Biomechanics', 2904), ('Anthropology', 'Biological Anthropology Seminar', 148, 'Anthropology', 'Biological Anthropology', 402), ('Recreation, Parks, and Tourism Administration', 'Individual Study', 4022, 'Recreation, Parks and Tourism Administration', 'Individual Study', 3807), ('Kinesiology', 'Intermediate Swimming', 2847, 'Kinesiology', 'Intermediate Swimming', 2820), ('Art', 'Intermediate Sculpture', 258, 'Art', 'Intermediate Sculpture', 588), ('Kinesiology', 'Intermediate Sailing', 2849, 'Kinesiology', 'Intermediate Swimming', 2820), ('Computer Science', 'Special Problems', 999, 'Computer Science', 'Special Problems', 1397), ('Civil Engineering', 'Special Problems', 706, 'Civil Engineering', 'Special Problems', 1159), ('Civil Engineering', 'Special Problems', 706, 'Civil Engineering', 'Special Problems', 1175), ('Economics', 'Special Problems', 1220, 'Economics', 'Special Problems', 1643), ('Sociology', 'Social Problems', 4122, 'Sociology', 'Social Problems', 3858), ('Computer Science', 'Special Problems', 964, 'Computer Science', 'Special Problems', 1397), ('Child Development', 'Special Problems', 606, 'Child Development', 'Special Problems', 1046), ('Psychology', 'Social Psychology', 3855, 'Psychology', 'Social Psychology', 3685), ('Civil Engineering', 'Special Problems', 670, 'Civil Engineering', 'Special Problems', 1159), ('Civil Engineering', 'Special Problems', 670, 'Civil Engineering', 'Special Problems', 1175), ('Child Development', 'Special Problems', 621, 'Child Development', 'Special Problems', 1046), ('Ethnic Studies', 'Special Problems', 1983, 'Ethnic Studies', 'Special Problems', 2059), ('Sociology', 'Special Problems', 4194, 'Sociology', 'Social Problems', 3858), ('Economics', 'Special Problems', 1237, 'Economics', 'Special Problems', 1643), ('Theatre', 'Script Analysis', 4401, 'Theatre', 'Script Analysis', 4018), ('Geology', 'Physical Geology', 2207, 'Geology', 'Physical Geology', 2220), ('Chemistry', 'Undergraduate Research', 551, 'Chemistry', 'Undergraduate Research', 963), ('Italian', 'Intermediate Italian', 2792, 'Italian', 'Intermediate Italian I', 2758), ('Italian', 'Intermediate Italian', 2793, 'Italian', 'Intermediate Italian I', 2758), ('Music', 'Instrumental Literature and Materials', 3527, 'Music', 'Instrumental Literature and Rehearsal Techniques', 3389), ('Mechanical Engineering', 'Vehicle Dynamics and Design', 3284, 'Mechanical Engineering', 'Ground Vehicle Dynamics and Design', 3204), ('Computer Science', 'Knowledge Based Systems', 971, 'Computer Science', 'Knowledge Based Systems', 1427), ('History', 'Imperial Russia', 2505, 'History', 'Imperial Russia', 2483), ('Chemistry', 'Quantitative Analysis', 532, 'Chemistry', 'Quantitative Analysis', 974), ('Chemistry', 'Quantitative Analysis', 532, 'Chemistry', 'Quantitative Analysis', 983), ('Computer Science', 'Distributed Systems', 993, 'Computer Science', 'Distributed Systems', 1419), ('Marine Sciences', 'Marine Botany', 3065, 'Marine Science', 'Marine Botany', 3004)]\n"
     ]
    }
   ],
   "source": [
    "###CSCU -> ASHFORD\n",
    "print(result)"
   ]
  },
  {
   "cell_type": "code",
   "execution_count": null,
   "metadata": {},
   "outputs": [],
   "source": []
  }
 ],
 "metadata": {
  "kernelspec": {
   "display_name": "Python 3",
   "language": "python",
   "name": "python3"
  },
  "language_info": {
   "codemirror_mode": {
    "name": "ipython",
    "version": 3
   },
   "file_extension": ".py",
   "mimetype": "text/x-python",
   "name": "python",
   "nbconvert_exporter": "python",
   "pygments_lexer": "ipython3",
   "version": "3.6.6"
  }
 },
 "nbformat": 4,
 "nbformat_minor": 2
}
